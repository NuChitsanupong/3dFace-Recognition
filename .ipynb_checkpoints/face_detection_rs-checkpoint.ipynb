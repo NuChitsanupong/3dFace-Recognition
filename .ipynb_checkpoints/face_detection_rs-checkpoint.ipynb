{
 "cells": [
  {
   "cell_type": "code",
   "execution_count": 1,
   "metadata": {},
   "outputs": [],
   "source": [
    "import pyrealsense2 as rs\n",
    "import numpy as np\n",
    "import cv2\n",
    "import dlib\n",
    "from PIL import Image"
   ]
  },
  {
   "cell_type": "code",
   "execution_count": 2,
   "metadata": {},
   "outputs": [],
   "source": [
    "# load face detection model\n",
    "detector = dlib.get_frontal_face_detector()\n",
    "\n",
    "# Create a pipeline\n",
    "pipeline = rs.pipeline()\n",
    "\n",
    "# Create a config and configure the pipeline to stream\n",
    "# different resolutions of color and depth streams\n",
    "config = rs.config()\n",
    "config.enable_stream(rs.stream.depth, 640, 480, rs.format.z16, 30)\n",
    "config.enable_stream(rs.stream.color, 640, 480, rs.format.bgr8, 30)\n",
    "\n",
    "# Start streaming\n",
    "profile = pipeline.start(config)\n",
    "\n",
    "# Create an align object\n",
    "# rs.align allows us to perform alignment of depth frames to others frames\n",
    "# The \"align_to\" is the stream type to which we plan to align depth frames.\n",
    "align_to = rs.stream.color\n",
    "align = rs.align(align_to)"
   ]
  },
  {
   "cell_type": "code",
   "execution_count": 3,
   "metadata": {},
   "outputs": [],
   "source": [
    "p_n = 1\n",
    "c = 0\n",
    "p = '05'"
   ]
  },
  {
   "cell_type": "code",
   "execution_count": 5,
   "metadata": {},
   "outputs": [
    {
     "name": "stdout",
     "output_type": "stream",
     "text": [
      "1\n",
      "2\n",
      "3\n",
      "4\n",
      "5\n",
      "6\n",
      "7\n",
      "8\n",
      "9\n",
      "10\n",
      "11\n",
      "12\n",
      "13\n",
      "14\n",
      "15\n",
      "16\n",
      "17\n",
      "18\n",
      "19\n",
      "20\n",
      "21\n",
      "22\n",
      "23\n",
      "24\n",
      "25\n",
      "26\n"
     ]
    }
   ],
   "source": [
    "try:\n",
    "    while True:\n",
    "        # Wait for a coherent pair of frames: depth and color\n",
    "        frames = pipeline.wait_for_frames()\n",
    "        \n",
    "        # Align the depth frame to color frame\n",
    "        aligned_frames = align.process(frames)\n",
    "        \n",
    "        # Get aligned frames\n",
    "        aligned_depth_frame = aligned_frames.get_depth_frame() # aligned_depth_frame is a 640x480 depth image\n",
    "        color_frame = aligned_frames.get_color_frame()\n",
    "\n",
    "        # Validate that both frames are valid\n",
    "        \n",
    "        if not aligned_depth_frame or not color_frame:\n",
    "            continue\n",
    "\n",
    "        # Convert images to numpy arrays\n",
    "        depth_image = np.asanyarray(aligned_depth_frame.get_data())\n",
    "        color_image = np.asanyarray(color_frame.get_data())\n",
    "        # dep_img = depth_image\n",
    "        # rgb_img = color_image\n",
    "        \n",
    "        # Apply colormap on depth image (image must be converted to 8-bit per pixel first)\n",
    "        depth_colormap = cv2.applyColorMap(cv2.convertScaleAbs(depth_image, alpha=0.01), cv2.COLORMAP_JET)\n",
    "        # dep_img = depth_colormap\n",
    "        \n",
    "        dets = detector(color_image, 1)\n",
    "        for d in dets:\n",
    "            x, y, w, h = d.left()-5, d.top()-15, d.right()+5, d.bottom()+10\n",
    "            xy = x, y\n",
    "            wh = w, h\n",
    "            \n",
    "            rgb_img = color_image[y+2:h-2, x+2:w-2]\n",
    "            # rgb_img = cv2.cvtColor(rgb_img, cv2.COLOR_BGR2RGB)\n",
    "            \n",
    "            dep_img = depth_image[y+2:h-2, x+2:w-2]\n",
    "            # dep_img = np.expand_dims(dep_img, axis=-1)\n",
    "            # img = np.concatenate((rgb_img, dep_img), axis=-1)\n",
    "            # print(rgb_img)\n",
    "            # print(dep_img)\n",
    "            # print(img)\n",
    "            \n",
    "            if (c%3) == 1:\n",
    "                print(p_n)\n",
    "                rgb_file = '3dface_train/' + p + '/' + p + '_' + str(p_n) + '.png'\n",
    "                dep_file = '3dface_train/' + p + '/' + p + '_' + str(p_n) + '.npy'\n",
    "                cv2.imwrite(rgb_file, rgb_img)\n",
    "                np.save(dep_file, dep_img)\n",
    "                p_n += 1\n",
    "            c += 1\n",
    "            \n",
    "            cv2.rectangle(color_image, xy, wh, (255,0,0), 2)\n",
    "            cv2.rectangle(depth_colormap, xy, wh, (255,255,255), 2)\n",
    "            # cv2.putText(color_image, \"name\", (x, y-5), cv2.FONT_HERSHEY_COMPLEX, 0.7, (255, 255, 255), 2)\n",
    "\n",
    "        # Stack both images horizontally\n",
    "        images = np.hstack((color_image, depth_colormap))\n",
    "        # imgs = np.hstack((img, dep_img))\n",
    "        \n",
    "        # Show images\n",
    "        cv2.namedWindow('RealSense', cv2.WINDOW_AUTOSIZE)\n",
    "        cv2.imshow('RealSense', images)\n",
    "        key = cv2.waitKey(10)\n",
    "        \n",
    "        # Press esc or 'q' to close the image window\n",
    "        if key & 0xFF == ord('q') or key == 27:\n",
    "            cv2.destroyAllWindows()\n",
    "            break\n",
    "\n",
    "finally:\n",
    "    # Stop streaming\n",
    "    pipeline.stop()"
   ]
  },
  {
   "cell_type": "code",
   "execution_count": null,
   "metadata": {},
   "outputs": [],
   "source": []
  },
  {
   "cell_type": "code",
   "execution_count": null,
   "metadata": {},
   "outputs": [],
   "source": []
  },
  {
   "cell_type": "code",
   "execution_count": 5,
   "metadata": {},
   "outputs": [
    {
     "data": {
      "text/plain": [
       "array([[[ 26,  33,  24],\n",
       "        [ 18,  21,  13],\n",
       "        [ 19,  22,  14],\n",
       "        ...,\n",
       "        [109, 124, 130],\n",
       "        [112, 122, 124],\n",
       "        [ 93, 103, 105]],\n",
       "\n",
       "       [[ 29,  39,  27],\n",
       "        [ 33,  40,  31],\n",
       "        [ 17,  24,  15],\n",
       "        ...,\n",
       "        [ 91, 102, 106],\n",
       "        [ 94, 107, 106],\n",
       "        [119, 132, 131]],\n",
       "\n",
       "       [[ 36,  45,  36],\n",
       "        [ 33,  41,  34],\n",
       "        [ 31,  39,  32],\n",
       "        ...,\n",
       "        [111, 123, 125],\n",
       "        [127, 140, 139],\n",
       "        [124, 137, 136]],\n",
       "\n",
       "       ...,\n",
       "\n",
       "       [[ 38,  51,  82],\n",
       "        [ 37,  51,  80],\n",
       "        [ 36,  50,  79],\n",
       "        ...,\n",
       "        [ 30,  39,  38],\n",
       "        [ 33,  42,  41],\n",
       "        [ 34,  43,  42]],\n",
       "\n",
       "       [[ 36,  49,  80],\n",
       "        [ 34,  48,  77],\n",
       "        [ 33,  47,  76],\n",
       "        ...,\n",
       "        [ 28,  39,  38],\n",
       "        [ 32,  43,  42],\n",
       "        [ 32,  43,  42]],\n",
       "\n",
       "       [[ 36,  48,  82],\n",
       "        [ 34,  47,  78],\n",
       "        [ 32,  45,  76],\n",
       "        ...,\n",
       "        [ 28,  38,  40],\n",
       "        [ 31,  41,  43],\n",
       "        [ 31,  41,  43]]], dtype=uint8)"
      ]
     },
     "execution_count": 5,
     "metadata": {},
     "output_type": "execute_result"
    }
   ],
   "source": [
    "rgb_img"
   ]
  },
  {
   "cell_type": "code",
   "execution_count": 9,
   "metadata": {},
   "outputs": [
    {
     "data": {
      "text/plain": [
       "True"
      ]
     },
     "execution_count": 9,
     "metadata": {},
     "output_type": "execute_result"
    }
   ],
   "source": [
    "cv2.imwrite(\"pic/aaa.png\", rgb_img)"
   ]
  },
  {
   "cell_type": "code",
   "execution_count": 11,
   "metadata": {},
   "outputs": [
    {
     "data": {
      "text/plain": [
       "array([[   0,    0,    0, ..., 2901, 2901, 2901],\n",
       "       [ 512,    0,    0, ..., 2915, 2908, 2908],\n",
       "       [   0,  498,    0, ..., 2923, 2923, 2915],\n",
       "       ...,\n",
       "       [ 549,  548,  547, ..., 2277, 2268, 2259],\n",
       "       [ 550,  549,  548, ...,    0,    0,    0],\n",
       "       [ 550,  549,  549, ...,    0,    0,    0]], dtype=uint16)"
      ]
     },
     "execution_count": 11,
     "metadata": {},
     "output_type": "execute_result"
    }
   ],
   "source": [
    "dep_img"
   ]
  },
  {
   "cell_type": "code",
   "execution_count": 12,
   "metadata": {},
   "outputs": [],
   "source": [
    "np.save('pic/aaa.npy', dep_img)"
   ]
  },
  {
   "cell_type": "code",
   "execution_count": 13,
   "metadata": {},
   "outputs": [],
   "source": [
    "im = Image.fromarray(rgb_img)\n",
    "im.show()"
   ]
  },
  {
   "cell_type": "code",
   "execution_count": 14,
   "metadata": {},
   "outputs": [],
   "source": [
    "from matplotlib import pyplot as plt"
   ]
  },
  {
   "cell_type": "code",
   "execution_count": 15,
   "metadata": {},
   "outputs": [
    {
     "data": {
      "image/png": "[encoded data removed]",
      "text/plain": [
       "<Figure size 432x288 with 1 Axes>"
      ]
     },
     "metadata": {
      "needs_background": "light"
     },
     "output_type": "display_data"
    }
   ],
   "source": [
    "plt.imshow(dep_img, cmap='gray')\n",
    "plt.show()"
   ]
  },
  {
   "cell_type": "code",
   "execution_count": null,
   "metadata": {},
   "outputs": [],
   "source": []
  },
  {
   "cell_type": "code",
   "execution_count": null,
   "metadata": {},
   "outputs": [],
   "source": []
  },
  {
   "cell_type": "code",
   "execution_count": null,
   "metadata": {},
   "outputs": [],
   "source": []
  },
  {
   "cell_type": "code",
   "execution_count": 16,
   "metadata": {},
   "outputs": [
    {
     "data": {
      "text/plain": [
       "array([[   0,    0,    0, ...,    0,    0,    0],\n",
       "       [   0,    0,    0, ...,    0,    0,    0],\n",
       "       [   0,    0,    0, ...,    0,    0,    0],\n",
       "       ...,\n",
       "       [ 481,  481,  481, ...,    0, 2087, 2087],\n",
       "       [ 480,  480,  480, ..., 2076, 2083, 2087],\n",
       "       [ 478,  479,  479, ..., 2076, 2079, 2083]], dtype=uint16)"
      ]
     },
     "execution_count": 16,
     "metadata": {},
     "output_type": "execute_result"
    }
   ],
   "source": [
    "pic_a = np.load('3dface_train/03/03_3.npy')\n",
    "pic_a"
   ]
  },
  {
   "cell_type": "code",
   "execution_count": 17,
   "metadata": {},
   "outputs": [
    {
     "data": {
      "text/plain": [
       "(176, 161)"
      ]
     },
     "execution_count": 17,
     "metadata": {},
     "output_type": "execute_result"
    }
   ],
   "source": [
    "pic_a.shape"
   ]
  },
  {
   "cell_type": "code",
   "execution_count": 9,
   "metadata": {},
   "outputs": [
    {
     "data": {
      "text/plain": [
       "array([[0, 0, 0, ..., 0, 0, 0],\n",
       "       [0, 0, 0, ..., 0, 0, 0],\n",
       "       [0, 0, 0, ..., 0, 0, 0],\n",
       "       ...,\n",
       "       [0, 0, 0, ..., 0, 0, 0],\n",
       "       [0, 0, 0, ..., 0, 0, 0],\n",
       "       [0, 0, 0, ..., 0, 0, 0]], dtype=uint8)"
      ]
     },
     "execution_count": 9,
     "metadata": {},
     "output_type": "execute_result"
    }
   ],
   "source": [
    "pic_b = np.load('3dface_th/alrisa/alrisa1_0.npy')\n",
    "pic_b"
   ]
  },
  {
   "cell_type": "code",
   "execution_count": 10,
   "metadata": {},
   "outputs": [
    {
     "data": {
      "text/plain": [
       "(785, 555)"
      ]
     },
     "execution_count": 10,
     "metadata": {},
     "output_type": "execute_result"
    }
   ],
   "source": [
    "pic_b.shape"
   ]
  },
  {
   "cell_type": "code",
   "execution_count": null,
   "metadata": {},
   "outputs": [],
   "source": []
  }
 ],
 "metadata": {
  "kernelspec": {
   "display_name": "Python 3",
   "language": "python",
   "name": "python3"
  },
  "language_info": {
   "codemirror_mode": {
    "name": "ipython",
    "version": 3
   },
   "file_extension": ".py",
   "mimetype": "text/x-python",
   "name": "python",
   "nbconvert_exporter": "python",
   "pygments_lexer": "ipython3",
   "version": "3.7.3"
  }
 },
 "nbformat": 4,
 "nbformat_minor": 4
}
